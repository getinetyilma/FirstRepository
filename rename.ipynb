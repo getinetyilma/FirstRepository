{
 "cells": [
  {
   "cell_type": "code",
   "execution_count": 1,
   "metadata": {},
   "outputs": [],
   "source": [
    "import os \n",
    "import shutil"
   ]
  },
  {
   "cell_type": "code",
   "execution_count": 2,
   "metadata": {},
   "outputs": [],
   "source": [
    "from natsort import natsorted "
   ]
  },
  {
   "cell_type": "code",
   "execution_count": 3,
   "metadata": {},
   "outputs": [],
   "source": [
    "def rename_files(path,new_name,extension):\n",
    "    os.chdir(path)\n",
    "    for (i,filename)in enumerate(natsorted(os.listdir(path))):\n",
    "        os.rename(src=filename,dst='{}{}{}'.format(new_name,i,extension))\n",
    "        "
   ]
  },
  {
   "cell_type": "code",
   "execution_count": 14,
   "metadata": {},
   "outputs": [],
   "source": [
    "#for even\n",
    "rename_files('C:/Users/gate/Desktop/Tomato/grayscale/Tomato___Tomato_Yellow_Leaf_Curl_Virus/',\n",
    "             'Tomato_1_0_TomatoYellowLeafCurlVirus_9_','.JPG')\n"
   ]
  },
  {
   "cell_type": "code",
   "execution_count": 158,
   "metadata": {},
   "outputs": [],
   "source": [
    "##for odd\n",
    "\n",
    "#rename_files('C:/Users/gate/Desktop/Dataset/odd/Tomato___Tomato_Yellow_Leaf_Curl_Virus','Tomato_13_0_YellowLeafCurlVirus_37_','.JPG')\n"
   ]
  },
  {
   "cell_type": "code",
   "execution_count": null,
   "metadata": {},
   "outputs": [],
   "source": []
  }
 ],
 "metadata": {
  "kernelspec": {
   "display_name": "Python 3",
   "language": "python",
   "name": "python3"
  },
  "language_info": {
   "codemirror_mode": {
    "name": "ipython",
    "version": 3
   },
   "file_extension": ".py",
   "mimetype": "text/x-python",
   "name": "python",
   "nbconvert_exporter": "python",
   "pygments_lexer": "ipython3",
   "version": "3.7.6"
  }
 },
 "nbformat": 4,
 "nbformat_minor": 4
}
